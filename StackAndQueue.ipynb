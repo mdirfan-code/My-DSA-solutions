{
 "cells": [
  {
   "cell_type": "markdown",
   "metadata": {},
   "source": [
    "# Stack and Queue"
   ]
  },
  {
   "cell_type": "markdown",
   "metadata": {},
   "source": [
    "## Learning"
   ]
  },
  {
   "cell_type": "markdown",
   "metadata": {},
   "source": [
    "#### Check for balanced parantheses"
   ]
  },
  {
   "cell_type": "code",
   "execution_count": null,
   "metadata": {},
   "outputs": [],
   "source": [
    "def isValidParenthesis(s: str) -> bool:\n",
    "    # Write your code here\n",
    "    d = {\"}\":\"{\",\")\":\"(\",\"]\":\"[\"}\n",
    "    st = []\n",
    "    for i in s:\n",
    "        if i in \"{([\":\n",
    "            st.append(i)\n",
    "        else:\n",
    "            if  len(st) ==0:\n",
    "                return False\n",
    "            if  st[-1] != d[i]:\n",
    "                return False\n",
    "            st.pop()\n",
    "    return bool(st) ^ True"
   ]
  },
  {
   "cell_type": "markdown",
   "metadata": {},
   "source": [
    "### Implemented Min stack\n"
   ]
  },
  {
   "cell_type": "code",
   "execution_count": null,
   "metadata": {},
   "outputs": [],
   "source": [
    "class MinStack:\n",
    "    \n",
    "    def __init__(self):\n",
    "        self.stack = []\n",
    "        self.minStack = []\n",
    "        \n",
    "\n",
    "    def push(self, val: int) -> None:\n",
    "        self.stack.append(val)\n",
    "        if not self.minStack or val <= self.minStack[-1]:\n",
    "            self.minStack.append(val)\n",
    "\n",
    "    def pop(self) -> None:\n",
    "        x = self.stack.pop()\n",
    "        if x == self.minStack[-1]:\n",
    "            self.minStack.pop()\n",
    "        \n",
    "\n",
    "    def top(self) -> int:\n",
    "        return self.stack[-1]\n",
    "        \n",
    "\n",
    "    def getMin(self) -> int:\n",
    "        return self.minStack[-1]\n",
    "        \n",
    "\n",
    "\n",
    "# Your MinStack object will be instantiated and called as such:\n",
    "# obj = MinStack()\n",
    "# obj.push(val)\n",
    "# obj.pop()\n",
    "# param_3 = obj.top()\n",
    "# param_4 = obj.getMin()"
   ]
  },
  {
   "cell_type": "markdown",
   "metadata": {},
   "source": [
    "### Next Greater Element 1"
   ]
  },
  {
   "cell_type": "code",
   "execution_count": null,
   "metadata": {},
   "outputs": [],
   "source": [
    "from collections import defaultdict\n",
    "\n",
    "class Solution:\n",
    "    def nextGreaterElement(self, nums1, nums2):\n",
    "        ans = defaultdict(lambda: -1)\n",
    "        stack = []\n",
    "        for i in range(len(nums2)):\n",
    "            while stack and stack[-1] < nums2[i]:\n",
    "                ans[stack.pop()] = nums2[i]\n",
    "            stack.append(nums2[i])\n",
    "        for i in range(len(nums1)):\n",
    "            nums1[i] = ans[nums1[i]]\n",
    "        return nums1\n"
   ]
  }
 ],
 "metadata": {
  "kernelspec": {
   "display_name": "Python 3",
   "language": "python",
   "name": "python3"
  },
  "language_info": {
   "codemirror_mode": {
    "name": "ipython",
    "version": 3
   },
   "file_extension": ".py",
   "mimetype": "text/x-python",
   "name": "python",
   "nbconvert_exporter": "python",
   "pygments_lexer": "ipython3",
   "version": "3.8.10"
  },
  "orig_nbformat": 4
 },
 "nbformat": 4,
 "nbformat_minor": 2
}
