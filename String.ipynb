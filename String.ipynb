{
 "cells": [
  {
   "cell_type": "markdown",
   "metadata": {},
   "source": [
    "# String"
   ]
  },
  {
   "cell_type": "markdown",
   "metadata": {},
   "source": [
    "## Easy and Basic"
   ]
  },
  {
   "cell_type": "markdown",
   "metadata": {},
   "source": [
    "#### Remove outermost paranthesis"
   ]
  },
  {
   "cell_type": "code",
   "execution_count": null,
   "metadata": {},
   "outputs": [],
   "source": [
    "\n",
    "def removeOuterParentheses(s):\n",
    "    st1 = []\n",
    "    st2 = []\n",
    "\n",
    "    for i in s:\n",
    "        if not st1:\n",
    "            st1.append(i)\n",
    "        else:\n",
    "            if i == '(':\n",
    "                st1.append(i)\n",
    "                st2.append(i)\n",
    "            else:\n",
    "                st1.pop()\n",
    "                if st1:\n",
    "                    st2.append(i)\n",
    "    return \"\".join(st2)"
   ]
  }
 ],
 "metadata": {
  "kernelspec": {
   "display_name": "Python 3",
   "language": "python",
   "name": "python3"
  },
  "language_info": {
   "name": "python",
   "version": "3.8.10"
  },
  "orig_nbformat": 4
 },
 "nbformat": 4,
 "nbformat_minor": 2
}
