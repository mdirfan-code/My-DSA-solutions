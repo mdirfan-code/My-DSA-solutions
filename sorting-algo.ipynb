{
 "cells": [
  {
   "attachments": {},
   "cell_type": "markdown",
   "metadata": {},
   "source": [
    "# Sorting Algorithm"
   ]
  },
  {
   "attachments": {},
   "cell_type": "markdown",
   "metadata": {},
   "source": [
    "### Selection sort\n"
   ]
  },
  {
   "cell_type": "code",
   "execution_count": null,
   "metadata": {},
   "outputs": [],
   "source": [
    "class Solution: \n",
    "    def select(self, arr, i):\n",
    "        # this funtion in selecting minimum element\n",
    "        # in range of i - len(arr)\n",
    "        minimum_element = arr[i]\n",
    "        index_of_minimum_element = i\n",
    "        for j in range(i+1,len(arr)):\n",
    "            if arr[j] < minimum_element: \n",
    "                minimum_element = arr[j]\n",
    "                index_of_minimum_element = j\n",
    "        return index_of_minimum_element\n",
    "                \n",
    "         \n",
    "    \n",
    "    def selectionSort(self, arr,n):\n",
    "        \n",
    "        for i in range(n):\n",
    "            selected_index = self.select(arr,i)\n",
    "            arr[i], arr[selected_index] = arr[selected_index], arr[i] \n",
    "        "
   ]
  },
  {
   "attachments": {},
   "cell_type": "markdown",
   "metadata": {},
   "source": [
    "### Bubble Sort"
   ]
  },
  {
   "cell_type": "code",
   "execution_count": null,
   "metadata": {},
   "outputs": [],
   "source": [
    "class Solution:\n",
    "    #Function to sort the array using bubble sort algorithm.\n",
    "    def bubbleSort(self,arr, n):\n",
    "        \n",
    "        for i in range(n):\n",
    "            for j in range(n-i-1):\n",
    "                if(arr[j] > arr[j+1]):\n",
    "                    arr[j], arr[j+1] = arr[j+1], arr[j] "
   ]
  },
  {
   "attachments": {},
   "cell_type": "markdown",
   "metadata": {},
   "source": [
    "### Insertion Sort\n"
   ]
  },
  {
   "cell_type": "code",
   "execution_count": null,
   "metadata": {},
   "outputs": [],
   "source": [
    "class Solution:\n",
    "    def insert(self, arr, index, n):\n",
    "        \n",
    "        i = index - 1\n",
    "        element_to_insert = arr[index]\n",
    "        while(i != -1 and arr[i] > element_to_insert ):\n",
    "            arr[i+1] = arr[i]\n",
    "            i-=1\n",
    "        arr[i+1] = element_to_insert\n",
    "            \n",
    "        \n",
    "    #Function to sort the list using insertion sort algorithm.    \n",
    "    def insertionSort(self, alist, n):\n",
    "        \n",
    "        for i in range(n):\n",
    "            self.insert(alist,i,n)"
   ]
  },
  {
   "cell_type": "markdown",
   "metadata": {},
   "source": [
    "### Merge Sort"
   ]
  },
  {
   "cell_type": "code",
   "execution_count": 11,
   "metadata": {},
   "outputs": [
    {
     "name": "stdout",
     "output_type": "stream",
     "text": [
      "[1, 3, 4, 7, 9]\n"
     ]
    }
   ],
   "source": [
    "class Solution:\n",
    "    def merge(self,arr, l, m, r): \n",
    "        \n",
    "        sorted_arr = []\n",
    "        i = l\n",
    "        j = m+1\n",
    "        while(i<=m and j<=r):\n",
    "            if arr[i] <= arr[j]:\n",
    "                sorted_arr.append(arr[i])\n",
    "                i+=1\n",
    "            else:\n",
    "                sorted_arr.append(arr[j])\n",
    "                j+=1\n",
    "        \n",
    "        while(i<=m):\n",
    "            sorted_arr.append(arr[i])\n",
    "            i+=1\n",
    "        while(j<=r):\n",
    "            sorted_arr.append(arr[j])\n",
    "            j+=1\n",
    "        for i in range(len(sorted_arr)):\n",
    "            arr[l+i] = sorted_arr[i]\n",
    "            \n",
    "        \n",
    "        \n",
    "    def mergeSort(self,arr, l, r):\n",
    "        if(l>=r):\n",
    "            return\n",
    "        m = (l+r)//2\n",
    "        # if(r-l == 1):\n",
    "        #     return \n",
    "        self.mergeSort(arr,l,m)\n",
    "        self.mergeSort(arr,m+1,r)\n",
    "        self.merge(arr,l,m,r)\n",
    "arr = [4,1,3,9,7]\n",
    "Solution().mergeSort(arr,0,len(arr)-1)\n",
    "print(arr)"
   ]
  },
  {
   "cell_type": "markdown",
   "metadata": {},
   "source": [
    "### Quick Sort"
   ]
  },
  {
   "cell_type": "code",
   "execution_count": null,
   "metadata": {},
   "outputs": [],
   "source": [
    "#User function Template for python3\n",
    "\n",
    "class Solution:\n",
    "    #Function to sort a list using quick sort algorithm.\n",
    "    def quickSort(self,arr,low,high):\n",
    "        if low < high:\n",
    "            pi = self.partition(arr,low,high)\n",
    "            self.quickSort(arr,low,pi-1)\n",
    "            self.quickSort(arr,pi+1,high)\n",
    "    \n",
    "    def partition(self,arr,low,high):\n",
    "        \n",
    "        pivot = arr[high]\n",
    "        i = low - 1\n",
    "        \n",
    "        for j in range(low,high):\n",
    "            if arr[j] <= pivot:\n",
    "                i+=1\n",
    "                \n",
    "                arr[i], arr[j] = arr[j], arr[i]\n",
    "        arr[i+1], arr[high] = arr[high], arr[i+1]\n",
    "        \n",
    "        return i+1\n",
    "    "
   ]
  },
  {
   "cell_type": "markdown",
   "metadata": {},
   "source": [
    "### Heap sort"
   ]
  },
  {
   "cell_type": "code",
   "execution_count": null,
   "metadata": {},
   "outputs": [],
   "source": [
    "class Solution:\n",
    "    def sortArray(self, nums):\n",
    "        \n",
    "        def heapify(arr, n, i):\n",
    "            largest = i\n",
    "            l = 2 * i + 1\n",
    "            r = 2 * i + 2\n",
    "\n",
    "            if l < n and arr[largest] < arr[l]:\n",
    "                largest = l \n",
    "            if r < n and arr[largest] < arr[r]:\n",
    "                largest = r\n",
    "            \n",
    "            if largest != i:\n",
    "                arr[i], arr[largest] = arr[largest], arr[i]\n",
    "\n",
    "                heapify(arr, n, largest)\n",
    "        n = len(nums)\n",
    "        for i in range(n//2 - 1, -1, -1):\n",
    "            heapify(nums, n, i)\n",
    "        \n",
    "        for i in range(n-1,0,-1):\n",
    "            nums[i], nums[0] = nums[0], nums[i]\n",
    "            heapify(nums, i, 0)\n",
    "        return nums"
   ]
  }
 ],
 "metadata": {
  "kernelspec": {
   "display_name": "Python 3",
   "language": "python",
   "name": "python3"
  },
  "language_info": {
   "codemirror_mode": {
    "name": "ipython",
    "version": 3
   },
   "file_extension": ".py",
   "mimetype": "text/x-python",
   "name": "python",
   "nbconvert_exporter": "python",
   "pygments_lexer": "ipython3",
   "version": "3.8.10"
  },
  "orig_nbformat": 4
 },
 "nbformat": 4,
 "nbformat_minor": 2
}
