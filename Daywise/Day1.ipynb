{
 "cells": [
  {
   "cell_type": "markdown",
   "metadata": {},
   "source": [
    "## Day 1"
   ]
  },
  {
   "cell_type": "markdown",
   "metadata": {},
   "source": [
    "#### Count of subarray with xor b"
   ]
  },
  {
   "cell_type": "code",
   "execution_count": null,
   "metadata": {},
   "outputs": [],
   "source": [
    "def subarraysWithSumK(a: [int], b: int) -> int:\n",
    "    # Write your code here\n",
    "    d = {0:1}\n",
    "    prfx = 0\n",
    "    ans = 0\n",
    "    for i in a:\n",
    "        prfx ^= i \n",
    "        x = b^prfx\n",
    "        if x in d:\n",
    "            ans+=d[x]\n",
    "        \n",
    "        d[prfx] = d.get(prfx,0) + 1\n",
    "\n",
    "    return ans\n"
   ]
  },
  {
   "cell_type": "markdown",
   "metadata": {},
   "source": [
    "#### Binary search in rotated array"
   ]
  },
  {
   "cell_type": "code",
   "execution_count": null,
   "metadata": {},
   "outputs": [],
   "source": [
    "\n",
    "def search(nums, target) -> int:\n",
    "    l = 0\n",
    "    r = len(nums) - 1\n",
    "\n",
    "    while l <= r:\n",
    "        m = (l + r) // 2\n",
    "        \n",
    "        if nums[m] == target:\n",
    "            return m\n",
    "\n",
    "        if nums[l] <= nums[m]:\n",
    "            if nums[l] <= target and target <= nums[m]:\n",
    "                r = m - 1\n",
    "            else:\n",
    "                l = m + 1\n",
    "        else:\n",
    "            if nums[m] <= target and target <= nums[r]:\n",
    "                l = m + 1\n",
    "            else:\n",
    "                r = m-1\n",
    "    return -1"
   ]
  },
  {
   "cell_type": "markdown",
   "metadata": {},
   "source": [
    "#### Remove Outermost parentheses"
   ]
  },
  {
   "cell_type": "code",
   "execution_count": null,
   "metadata": {},
   "outputs": [],
   "source": [
    "\n",
    "def removeOuterParentheses(s):\n",
    "    st1 = []\n",
    "    st2 = []\n",
    "\n",
    "    for i in s:\n",
    "        if not st1:\n",
    "            st1.append(i)\n",
    "        else:\n",
    "            if i == '(':\n",
    "                st1.append(i)\n",
    "                st2.append(i)\n",
    "            else:\n",
    "                st1.pop()\n",
    "                if st1:\n",
    "                    st2.append(i)\n",
    "    return \"\".join(st2)"
   ]
  }
 ],
 "metadata": {
  "kernelspec": {
   "display_name": "Python 3",
   "language": "python",
   "name": "python3"
  },
  "language_info": {
   "name": "python",
   "version": "3.8.10"
  },
  "orig_nbformat": 4
 },
 "nbformat": 4,
 "nbformat_minor": 2
}
