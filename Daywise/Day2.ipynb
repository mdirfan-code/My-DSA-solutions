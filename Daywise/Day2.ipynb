{
 "cells": [
  {
   "cell_type": "markdown",
   "metadata": {},
   "source": [
    "# Day 2"
   ]
  },
  {
   "cell_type": "markdown",
   "metadata": {},
   "source": [
    "### Binary Exponetiation"
   ]
  },
  {
   "cell_type": "code",
   "execution_count": null,
   "metadata": {},
   "outputs": [],
   "source": [
    "class Solution:\n",
    "    def myPow(self, x: float, n: int) -> float:\n",
    "        ans = 1\n",
    "        if n < 0:\n",
    "            n = -n\n",
    "            x = 1/x\n",
    "        while(n!=0):\n",
    "            if n%2 == 0:\n",
    "                x = x * x\n",
    "                n//=2\n",
    "            else:\n",
    "                ans*=x\n",
    "                n-=1\n",
    "        return ans\n"
   ]
  },
  {
   "cell_type": "markdown",
   "metadata": {},
   "source": [
    "### Count set bits"
   ]
  },
  {
   "cell_type": "code",
   "execution_count": null,
   "metadata": {},
   "outputs": [],
   "source": [
    "def countSetBits(N: int) -> int:\n",
    "    #Write your code here\n",
    "    ans = 0\n",
    "    while n!=0:\n",
    "        n = n & (n-1)\n",
    "        ans+=1\n",
    "    return ans"
   ]
  },
  {
   "cell_type": "markdown",
   "metadata": {},
   "source": [
    "### Check for balanced paranthesis"
   ]
  },
  {
   "cell_type": "code",
   "execution_count": null,
   "metadata": {},
   "outputs": [],
   "source": [
    "def isValidParenthesis(s: str) -> bool:\n",
    "    # Write your code here\n",
    "    d = {\"}\":\"{\",\")\":\"(\",\"]\":\"[\"}\n",
    "    st = []\n",
    "    for i in s:\n",
    "        if i in \"{([\":\n",
    "            st.append(i)\n",
    "        else:\n",
    "            if  len(st) ==0:\n",
    "                return False\n",
    "            if  st[-1] != d[i]:\n",
    "                return False\n",
    "            st.pop()\n",
    "    return bool(st) ^ True"
   ]
  },
  {
   "cell_type": "markdown",
   "metadata": {},
   "source": [
    "### Longest substring without repeating characters"
   ]
  },
  {
   "cell_type": "code",
   "execution_count": null,
   "metadata": {},
   "outputs": [],
   "source": [
    "class Solution:\n",
    "    def lengthOfLongestSubstring(self, s: str) -> int:\n",
    "        d = {}\n",
    "        mxl = 0\n",
    "        l = []\n",
    "        i = 0\n",
    "        j = 0\n",
    "        n = len(s)-1\n",
    "        \n",
    "        while j <=n:\n",
    "            if s[j] not in d or d[s[j]] < i:\n",
    "                d[s[j]] = j\n",
    "            else:\n",
    "                i = d[s[j]] + 1\n",
    "                d[s[j]] = j\n",
    "            mxl = max(mxl,j-i+1)\n",
    "            # print(s[j],d,mxl,i,j,sep='|')\n",
    "            \n",
    "            j+=1\n",
    "        return mxl"
   ]
  }
 ],
 "metadata": {
  "kernelspec": {
   "display_name": "Python 3",
   "language": "python",
   "name": "python3"
  },
  "language_info": {
   "codemirror_mode": {
    "name": "ipython",
    "version": 3
   },
   "file_extension": ".py",
   "mimetype": "text/x-python",
   "name": "python",
   "nbconvert_exporter": "python",
   "pygments_lexer": "ipython3",
   "version": "3.8.10"
  },
  "orig_nbformat": 4
 },
 "nbformat": 4,
 "nbformat_minor": 2
}
