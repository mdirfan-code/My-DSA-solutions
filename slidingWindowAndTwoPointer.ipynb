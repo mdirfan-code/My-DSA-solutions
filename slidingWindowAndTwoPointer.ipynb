{
 "cells": [
  {
   "cell_type": "markdown",
   "metadata": {},
   "source": [
    "# Sliding window and two pointer"
   ]
  },
  {
   "cell_type": "markdown",
   "metadata": {},
   "source": [
    "### Longest substring without repeating characters"
   ]
  },
  {
   "cell_type": "code",
   "execution_count": null,
   "metadata": {},
   "outputs": [],
   "source": [
    "class Solution:\n",
    "    def lengthOfLongestSubstring(self, s: str) -> int:\n",
    "        d = {}\n",
    "        mxl = 0\n",
    "        l = []\n",
    "        i = 0\n",
    "        j = 0\n",
    "        n = len(s)-1\n",
    "        \n",
    "        while j <=n:\n",
    "            if s[j] not in d or d[s[j]] < i:\n",
    "                d[s[j]] = j\n",
    "            else:\n",
    "                i = d[s[j]] + 1\n",
    "                d[s[j]] = j\n",
    "            mxl = max(mxl,j-i+1)\n",
    "            # print(s[j],d,mxl,i,j,sep='|')\n",
    "            \n",
    "            j+=1\n",
    "        return mxl\n"
   ]
  }
 ],
 "metadata": {
  "kernelspec": {
   "display_name": "Python 3",
   "language": "python",
   "name": "python3"
  },
  "language_info": {
   "name": "python",
   "version": "3.8.10"
  },
  "orig_nbformat": 4
 },
 "nbformat": 4,
 "nbformat_minor": 2
}
