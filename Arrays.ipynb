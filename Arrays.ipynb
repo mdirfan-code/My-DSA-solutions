{
 "cells": [
  {
   "attachments": {},
   "cell_type": "markdown",
   "metadata": {},
   "source": [
    "# Arrays"
   ]
  },
  {
   "attachments": {},
   "cell_type": "markdown",
   "metadata": {},
   "source": [
    "## Easy\n",
    "## ------------------------------"
   ]
  },
  {
   "attachments": {},
   "cell_type": "markdown",
   "metadata": {},
   "source": [
    "### Largest Element in Array"
   ]
  },
  {
   "cell_type": "code",
   "execution_count": null,
   "metadata": {},
   "outputs": [],
   "source": [
    "#User function Template for python3\n",
    "\n",
    "def largest( arr, n):\n",
    "    global_maxima = 0\n",
    "    \n",
    "    for i in arr:\n",
    "        if global_maxima < i:\n",
    "            global_maxima = i\n",
    "    return global_maxima\n",
    "    "
   ]
  },
  {
   "cell_type": "markdown",
   "metadata": {},
   "source": [
    "### Second Largest Element in array\n"
   ]
  },
  {
   "cell_type": "code",
   "execution_count": 3,
   "metadata": {},
   "outputs": [],
   "source": [
    "#User function Template for python3\n",
    "class Solution:\n",
    "\n",
    "\tdef print2largest(self,arr, n):\n",
    "\t\tfirst_largest = -1\n",
    "\t\tsecond_largest = -1\n",
    "\t\tfor i in arr:\n",
    "\t\t\tif first_largest < i:\n",
    "\t\t\t\tsecond_largest = first_largest\n",
    "\t\t\t\tfirst_largest = i\n",
    "\t\t\telif second_largest < i and i != first_largest:\n",
    "\t\t\t\tsecond_largest = i\n",
    "\t\treturn second_largest"
   ]
  },
  {
   "cell_type": "markdown",
   "metadata": {},
   "source": [
    "### Check if array is sorted"
   ]
  },
  {
   "cell_type": "code",
   "execution_count": 5,
   "metadata": {},
   "outputs": [],
   "source": [
    "#User function Template for python3\n",
    "\n",
    "class Solution:\n",
    "    def arraySortedOrNot(self, arr, n):\n",
    "        \n",
    "        for i in range(n-1):\n",
    "            if(arr[i] > arr[i+1]):\n",
    "                return False\n",
    "        return True"
   ]
  },
  {
   "cell_type": "markdown",
   "metadata": {},
   "source": [
    "### Remove duplicate from sorted array"
   ]
  },
  {
   "cell_type": "code",
   "execution_count": 7,
   "metadata": {},
   "outputs": [],
   "source": [
    "#User function template for Python\n",
    "\n",
    "class Solution:\t\n",
    "\tdef remove_duplicate(self, A, N):\n",
    "\t\tcur_ele = A[0]\n",
    "\t\tcount = 1\n",
    "\t\tresArr = [A[0]]\n",
    "\t\tfor i in A:\n",
    "\t\t\tif cur_ele != i:\n",
    "\t\t\t\tcount+=1\n",
    "\t\t\t\tcur_ele = i\n",
    "\t\t\t\tresArr.append(i)\n",
    "\t\tA[:] = resArr\n",
    "\t\treturn count"
   ]
  },
  {
   "cell_type": "markdown",
   "metadata": {},
   "source": [
    "### Left rotate\n"
   ]
  },
  {
   "cell_type": "code",
   "execution_count": 8,
   "metadata": {},
   "outputs": [],
   "source": [
    "class Solution:\n",
    "    def leftRotate(self, arr, k, n):\n",
    "        r = k%n\n",
    "        arr[:] = arr[r:]+arr[:r]"
   ]
  },
  {
   "cell_type": "markdown",
   "metadata": {},
   "source": [
    "### Moove all zeros to end of array"
   ]
  },
  {
   "cell_type": "code",
   "execution_count": 10,
   "metadata": {},
   "outputs": [],
   "source": [
    "class Solution:\n",
    "    \tdef pushZerosToEnd(self,arr, n):\n",
    "            i = 0\n",
    "            j=-1\n",
    "            for i in range(n):\n",
    "                if arr[i] == 0:\n",
    "                    j = i\n",
    "                    break\n",
    "            if j == -1:\n",
    "                return\n",
    "            for i in range(j+1,n):\n",
    "                if arr[i]!=0:\n",
    "                    arr[i],arr[j] = arr[j], arr[i]\n",
    "                    j+=1"
   ]
  },
  {
   "cell_type": "markdown",
   "metadata": {},
   "source": [
    "### Linear Search"
   ]
  },
  {
   "cell_type": "code",
   "execution_count": 12,
   "metadata": {},
   "outputs": [],
   "source": [
    "#User function Template for python3\n",
    "\n",
    "class Solution:\n",
    "    ##Complete this function\n",
    "    def searchInSorted(self,arr, N, K):\n",
    "        \n",
    "        for i in arr:\n",
    "            if i == K:\n",
    "                return 1\n",
    "        return -1"
   ]
  },
  {
   "cell_type": "markdown",
   "metadata": {},
   "source": [
    "### Union of two sorted array"
   ]
  },
  {
   "cell_type": "code",
   "execution_count": 14,
   "metadata": {},
   "outputs": [],
   "source": [
    "#User function Template for python3\n",
    "\n",
    "class Solution:\n",
    "    \n",
    "    #Function to return a list containing the union of the two arrays.\n",
    "    def findUnion(self,a,b,n,m):\n",
    "        '''\n",
    "        :param a: given sorted array a\n",
    "        :param n: size of sorted array a\n",
    "        :param b: given sorted array b\n",
    "        :param m: size of sorted array b\n",
    "        :return:  The union of both arrays as a list\n",
    "        '''\n",
    "  \n",
    "        i = 0\n",
    "        j = 0\n",
    "        res = []\n",
    "        while(i < n and j < m):\n",
    "            \n",
    "            if(a[i]<=b[j]):\n",
    "                if not res or a[i] != res[-1]:\n",
    "                \n",
    "                    res.append(a[i])\n",
    "                i+=1\n",
    "            else:\n",
    "                if not res or b[j] != res[-1]:\n",
    "                    res.append(b[j])\n",
    "                j+=1\n",
    "                \n",
    "        while(i<n):\n",
    "            if a[i] != res[-1]:\n",
    "                res.append(a[i])\n",
    "            i+=1\n",
    "        while(j<m):\n",
    "            if b[j] != res[-1]:\n",
    "                res.append(b[j])\n",
    "            j+=1\n",
    "        return res"
   ]
  },
  {
   "cell_type": "markdown",
   "metadata": {},
   "source": [
    "### Find missing no in range without sorting"
   ]
  },
  {
   "cell_type": "code",
   "execution_count": null,
   "metadata": {},
   "outputs": [],
   "source": [
    "#User function Template for python3\n",
    "\n",
    "def missingNumber( A, N):\n",
    "     # Your code goes here\n",
    "    return  ((N*(N+1))//2) - sum(A)"
   ]
  },
  {
   "attachments": {},
   "cell_type": "markdown",
   "metadata": {},
   "source": [
    "### Find the element that appears once"
   ]
  },
  {
   "cell_type": "code",
   "execution_count": 15,
   "metadata": {},
   "outputs": [],
   "source": [
    "#User function Template for python3\n",
    "class Solution:\n",
    "    def search(self, A, N):\n",
    "        \n",
    "        for i in range(0,N-1,2):\n",
    "            if A[i] !=A[i+1]:\n",
    "                return A[i]\n",
    "        return A[-1]\n",
    "                "
   ]
  },
  {
   "cell_type": "markdown",
   "metadata": {},
   "source": [
    "### Longest Sub-Array with Sum k"
   ]
  },
  {
   "cell_type": "code",
   "execution_count": null,
   "metadata": {},
   "outputs": [],
   "source": [
    "#User function Template for python3\n",
    "\n",
    "class Solution:\n",
    "    def lenOfLongSubarr (self, arr, n, k) : \n",
    "        #Complete the function\n",
    "        d = {}\n",
    "        mxl = 0\n",
    "        sum = 0\n",
    "        d[0] = -1\n",
    "        for i in range(n):\n",
    "            sum+=arr[i]\n",
    "            x = sum-k\n",
    "            if x in d:\n",
    "                mxl = max(mxl,(i-d[x]))\n",
    "            if sum not in d:\n",
    "                d[sum] = i\n",
    "            \n",
    "        return mxl"
   ]
  },
  {
   "cell_type": "markdown",
   "metadata": {},
   "source": [
    "## Medium\n",
    "## --------------------"
   ]
  },
  {
   "cell_type": "markdown",
   "metadata": {},
   "source": [
    "### Find all pairs with a given sum\n"
   ]
  },
  {
   "cell_type": "code",
   "execution_count": null,
   "metadata": {},
   "outputs": [],
   "source": [
    "#User function Template for python3\n",
    "\n",
    "class Solution:\n",
    "    def allPairs(self, A, B, N, M, X):\n",
    "        # Your code goes here \n",
    "        dB = {}\n",
    "        for i in range(M):\n",
    "            dB[B[i]] = i\n",
    "        ans = []\n",
    "        for i in range(N):\n",
    "            if X-A[i] in dB:\n",
    "                ans.append((A[i],X-A[i]))\n",
    "        ans.sort()\n",
    "        return ans"
   ]
  },
  {
   "attachments": {},
   "cell_type": "markdown",
   "metadata": {},
   "source": [
    "### Sort an array of 0, 1 and 2"
   ]
  },
  {
   "cell_type": "code",
   "execution_count": null,
   "metadata": {},
   "outputs": [],
   "source": [
    "#User function Template for python3\n",
    "\n",
    "class Solution:\n",
    "    def sort012(self,arr,n):\n",
    "        # code here\n",
    "\n",
    "        d = {}\n",
    "        for i in arr:\n",
    "            if i in d:\n",
    "                d[i]+=1\n",
    "            else:\n",
    "                d[i] = 1\n",
    "        res = []\n",
    "        if 0 in d:\n",
    "            res+= [0]*d[0]\n",
    "        if 1 in d:\n",
    "            res+= [1]*d[1]\n",
    "        if 2 in d:\n",
    "            res+=[2]*d[2]\n",
    "        arr[:] =res\n",
    "            "
   ]
  },
  {
   "cell_type": "markdown",
   "metadata": {
    "vscode": {
     "languageId": "plaintext"
    }
   },
   "source": [
    "### Maximum sum subarray : Kadane's Algo"
   ]
  },
  {
   "cell_type": "code",
   "execution_count": null,
   "metadata": {},
   "outputs": [],
   "source": [
    "class Solution:\n",
    "    def maxSubArray(self, nums: List[int]) -> int:\n",
    "        gm = nums[0]\n",
    "        \n",
    "        lm = 0\n",
    "        for i in nums:\n",
    "            lm+=i\n",
    "            gm = max(gm,lm)\n",
    "            if(lm<0):\n",
    "                lm = 0 \n",
    "                \n",
    "        return gm\n",
    "        "
   ]
  },
  {
   "cell_type": "markdown",
   "metadata": {},
   "source": [
    "### Print Maximum Subarray"
   ]
  },
  {
   "cell_type": "code",
   "execution_count": 1,
   "metadata": {},
   "outputs": [],
   "source": [
    "class Solution:\n",
    "    def maxSubArray(self, nums) -> int:\n",
    "        gm = nums[0]\n",
    "        \n",
    "        lm = 0\n",
    "        rs = []\n",
    "        mrs = []\n",
    "        for i in nums:\n",
    "            lm+=i\n",
    "            mrs.append(i)\n",
    "            if gm < lm:\n",
    "                gm = lm\n",
    "                rs = mrs\n",
    "\n",
    "            if(lm<0):\n",
    "                lm = 0 \n",
    "                mrs = []\n",
    "        print(rs)\n",
    "                \n",
    "        return rs"
   ]
  },
  {
   "cell_type": "markdown",
   "metadata": {},
   "source": [
    "### Best Time to Buy and sell Stock"
   ]
  },
  {
   "cell_type": "code",
   "execution_count": 3,
   "metadata": {},
   "outputs": [],
   "source": [
    "class Solution:\n",
    "    def maxProfit(self, prices) -> int:\n",
    "        mins = prices[0]\n",
    "        ans = 0\n",
    "        for i in prices[1:]:\n",
    "            mins = min(mins,i)\n",
    "            ans = max(ans, i - mins)\n",
    "        return ans\n",
    "\n",
    "            "
   ]
  },
  {
   "cell_type": "markdown",
   "metadata": {},
   "source": [
    "### Superior Element"
   ]
  },
  {
   "cell_type": "code",
   "execution_count": 4,
   "metadata": {},
   "outputs": [],
   "source": [
    "def superiorElements(a ):\n",
    "    # Write your code here.\n",
    "    ans = [a[-1]]\n",
    "    \n",
    "    for i in range(len(a)-1,-1,-1):\n",
    "        if(ans[-1]<a[i]):\n",
    "            ans.append(a[i])\n",
    "    return ans\n"
   ]
  },
  {
   "cell_type": "markdown",
   "metadata": {},
   "source": [
    "### Longest Successive Elements"
   ]
  },
  {
   "cell_type": "code",
   "execution_count": 5,
   "metadata": {},
   "outputs": [],
   "source": [
    "\n",
    "def longestSuccessiveElements(a):\n",
    "    d = {}\n",
    "    vis = {}\n",
    "    for i in a:\n",
    "        d[i] = 1\n",
    "    mxl = 1\n",
    "    for i in range(len(a)):\n",
    "        if a[i] not in vis:\n",
    "            l = 1\n",
    "            j = a[i]-1\n",
    "            while(j in d ):\n",
    "                vis[j] = 1\n",
    "                l+=1\n",
    "                j-=1\n",
    "            mxl = max(mxl,l)\n",
    "    return mxl"
   ]
  },
  {
   "cell_type": "markdown",
   "metadata": {},
   "source": [
    "### Set Zero Matrix"
   ]
  },
  {
   "cell_type": "code",
   "execution_count": null,
   "metadata": {},
   "outputs": [],
   "source": [
    "class Solution:\n",
    "    def setZeroes(self, matrix: List[List[int]]) -> None:\n",
    "        \"\"\"\n",
    "        Do not return anything, modify matrix in-place instead.\n",
    "        \"\"\"\n",
    "        r = {}\n",
    "        c = {}\n",
    "        \n",
    "        n = len(matrix)\n",
    "        m = len(matrix[0])\n",
    "        \n",
    "        for i in range(n):\n",
    "            for j in range(m):\n",
    "                if(matrix[i][j] == 0):\n",
    "                    r[i] = 1\n",
    "                    c[j] = 1\n",
    "        for i in range(n):\n",
    "            for j in range(m):\n",
    "                if(i in r or j in c):\n",
    "                    matrix[i][j] = 0"
   ]
  },
  {
   "cell_type": "code",
   "execution_count": 6,
   "metadata": {},
   "outputs": [],
   "source": [
    "### Rotate matrix by 90 degree in clockwise direction\n"
   ]
  },
  {
   "cell_type": "code",
   "execution_count": null,
   "metadata": {},
   "outputs": [],
   "source": [
    "#  * clockwise rotate\n",
    "#  * first reverse up to down, then swap the symmetry \n",
    "#  * 1 2 3     7 8 9     7 4 1\n",
    "#  * 4 5 6  => 4 5 6  => 8 5 2\n",
    "#  * 7 8 9     1 2 3     9 6 3\n",
    "\n",
    "\n",
    "#  * anticlockwise rotate\n",
    "#  * first reverse left to right, then swap the symmetry\n",
    "#  * 1 2 3     3 2 1     3 6 9\n",
    "#  * 4 5 6  => 6 5 4  => 2 5 8\n",
    "#  * 7 8 9     9 8 7     1 4 7\n",
    "\n",
    "\n",
    "class Solution:\n",
    "    def rotate(self, matrix: List[List[int]]) -> None:\n",
    "        \"\"\"\n",
    "        Do not return anything, modify matrix in-place instead.\n",
    "        \"\"\"\n",
    "        matrix.reverse()\n",
    "\n",
    "        # transposing matrix\n",
    "        for i in range(len(matrix)):\n",
    "            for j in range(i+1,len(matrix[0])):\n",
    "                matrix[i][j], matrix[j][i] = matrix[j][i], matrix[i][j]\n",
    "                "
   ]
  }
 ],
 "metadata": {
  "kernelspec": {
   "display_name": "Python 3",
   "language": "python",
   "name": "python3"
  },
  "language_info": {
   "codemirror_mode": {
    "name": "ipython",
    "version": 3
   },
   "file_extension": ".py",
   "mimetype": "text/x-python",
   "name": "python",
   "nbconvert_exporter": "python",
   "pygments_lexer": "ipython3",
   "version": "3.8.10"
  },
  "orig_nbformat": 4
 },
 "nbformat": 4,
 "nbformat_minor": 2
}
